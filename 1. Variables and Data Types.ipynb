{
 "cells": [
  {
   "cell_type": "markdown",
   "id": "83633c07-6ab9-4bcb-8495-cc6c10887b85",
   "metadata": {},
   "source": [
    "# 1. Variables and Data Types"
   ]
  },
  {
   "cell_type": "markdown",
   "id": "3a29ab6e-23bd-4d86-9462-b8377f8f521e",
   "metadata": {},
   "source": [
    "## Two types of variables\n",
    "\n",
    "1. `val`: immutable\n",
    "2. `var`: mutable"
   ]
  },
  {
   "cell_type": "code",
   "execution_count": null,
   "id": "6199e979-6d79-4237-a9ee-52a766e066ec",
   "metadata": {},
   "outputs": [],
   "source": []
  }
 ],
 "metadata": {
  "kernelspec": {
   "display_name": "Scala",
   "language": "scala",
   "name": "scala"
  },
  "language_info": {
   "codemirror_mode": "text/x-scala",
   "file_extension": ".sc",
   "mimetype": "text/x-scala",
   "name": "scala",
   "nbconvert_exporter": "script",
   "version": "2.13.10"
  }
 },
 "nbformat": 4,
 "nbformat_minor": 5
}
