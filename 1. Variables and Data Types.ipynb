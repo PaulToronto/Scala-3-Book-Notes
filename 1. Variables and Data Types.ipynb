{
 "cells": [
  {
   "cell_type": "markdown",
   "id": "83633c07-6ab9-4bcb-8495-cc6c10887b85",
   "metadata": {},
   "source": [
    "# 1. Variables and Data Types"
   ]
  },
  {
   "cell_type": "markdown",
   "id": "3a29ab6e-23bd-4d86-9462-b8377f8f521e",
   "metadata": {},
   "source": [
    "## Two types of variables\n",
    "\n",
    "1. `val`: immutable\n",
    "2. `var`: mutable"
   ]
  },
  {
   "cell_type": "code",
   "execution_count": 1,
   "id": "6199e979-6d79-4237-a9ee-52a766e066ec",
   "metadata": {},
   "outputs": [
    {
     "data": {
      "text/html": [
       "<div class=\"jp-RenderedText\">\n",
       "<pre><code><span style=\"color: rgb(0, 187, 187)\"><span class=\"ansi-cyan-fg\">a</span></span>: <span style=\"color: rgb(0, 187, 0)\"><span class=\"ansi-green-fg\">Int</span></span> = <span style=\"color: rgb(0, 187, 0)\"><span class=\"ansi-green-fg\">0</span></span>\n",
       "<span style=\"color: rgb(0, 187, 187)\"><span class=\"ansi-cyan-fg\">b</span></span>: <span style=\"color: rgb(0, 187, 0)\"><span class=\"ansi-green-fg\">Int</span></span> = <style>@keyframes fadein { from { opacity: 0; } to { opacity: 1; } }</style><span style=\"animation: fadein 2s;\"><span style=\"color: rgb(0, 187, 0)\"><span class=\"ansi-green-fg\">3</span></span></span></code></pre>\n",
       "</div>"
      ],
      "text/plain": [
       "\u001b[36ma\u001b[39m: \u001b[32mInt\u001b[39m = \u001b[32m0\u001b[39m\n",
       "\u001b[36mb\u001b[39m: \u001b[32mInt\u001b[39m = \u001b[32m3\u001b[39m"
      ]
     },
     "metadata": {},
     "output_type": "display_data"
    }
   ],
   "source": [
    "val a = 0\n",
    "var b = 1"
   ]
  },
  {
   "cell_type": "raw",
   "id": "bbba2200-dbe8-4ca9-a142-a0f292860696",
   "metadata": {},
   "source": [
    "a = 3\n",
    "\n",
    "cmd3.sc:1: reassignment to val\n",
    "val res3 = a = 3\n",
    "             ^Compilation Failed\n",
    "Compilation Failed"
   ]
  },
  {
   "cell_type": "code",
   "execution_count": 2,
   "id": "ee1a9649-2a20-47a7-ad58-0ea74070cf36",
   "metadata": {},
   "outputs": [],
   "source": [
    "b = 3"
   ]
  },
  {
   "cell_type": "code",
   "execution_count": 3,
   "id": "f781c6fe-9d48-4587-bbc6-1b2d075811f4",
   "metadata": {},
   "outputs": [
    {
     "data": {
      "text/plain": [
       "\u001b[36mres2\u001b[39m: \u001b[32mInt\u001b[39m = \u001b[32m3\u001b[39m"
      ]
     },
     "execution_count": 3,
     "metadata": {},
     "output_type": "execute_result"
    }
   ],
   "source": [
    "b"
   ]
  },
  {
   "cell_type": "code",
   "execution_count": 4,
   "id": "ede00ca0-485e-4f58-b10b-7a1f096fb5aa",
   "metadata": {},
   "outputs": [
    {
     "data": {
      "text/html": [
       "<div class=\"jp-RenderedText\">\n",
       "<pre><code><span style=\"color: rgb(0, 187, 187)\"><span class=\"ansi-cyan-fg\">msg</span></span>: <span style=\"color: rgb(0, 187, 0)\"><span class=\"ansi-green-fg\">String</span></span> = <span style=\"color: rgb(0, 187, 0)\"><span class=\"ansi-green-fg\">&quot;Aloha!&quot;</span></span></code></pre>\n",
       "</div>"
      ],
      "text/plain": [
       "\u001b[36mmsg\u001b[39m: \u001b[32mString\u001b[39m = \u001b[32m\"Aloha!\"\u001b[39m"
      ]
     },
     "metadata": {},
     "output_type": "display_data"
    }
   ],
   "source": [
    "var msg = \"Hello, world\"\n",
    "msg = \"Aloha!\""
   ]
  },
  {
   "cell_type": "markdown",
   "id": "e075fe79-c11b-48c4-96cc-b8f8b4fa8272",
   "metadata": {},
   "source": [
    "## Declaring variable types"
   ]
  },
  {
   "cell_type": "code",
   "execution_count": 5,
   "id": "8351c4aa-53fe-4390-8d0e-78a00119b60c",
   "metadata": {},
   "outputs": [
    {
     "data": {
      "text/plain": [
       "\u001b[36mx\u001b[39m: \u001b[32mInt\u001b[39m = \u001b[32m1\u001b[39m"
      ]
     },
     "execution_count": 5,
     "metadata": {},
     "output_type": "execute_result"
    }
   ],
   "source": [
    "val x: Int = 1"
   ]
  },
  {
   "cell_type": "code",
   "execution_count": 6,
   "id": "f924b4d8-0e60-4210-b5a6-b4de93d27263",
   "metadata": {},
   "outputs": [
    {
     "data": {
      "text/plain": [
       "\u001b[36mres5\u001b[39m: \u001b[32mClass\u001b[39m[\u001b[32mInt\u001b[39m] = int"
      ]
     },
     "execution_count": 6,
     "metadata": {},
     "output_type": "execute_result"
    }
   ],
   "source": [
    "x.getClass()"
   ]
  },
  {
   "cell_type": "code",
   "execution_count": 7,
   "id": "2f779191-da8c-4b49-8dfd-1641d8c47ffc",
   "metadata": {},
   "outputs": [
    {
     "data": {
      "text/plain": [
       "\u001b[36ms\u001b[39m: \u001b[32mString\u001b[39m = \u001b[32m\"a string\"\u001b[39m\n",
       "\u001b[36mres6_1\u001b[39m: \u001b[32mString\u001b[39m = \u001b[32m\"a string\"\u001b[39m"
      ]
     },
     "execution_count": 7,
     "metadata": {},
     "output_type": "execute_result"
    }
   ],
   "source": [
    "val s = \"a string\"\n",
    "s"
   ]
  },
  {
   "cell_type": "code",
   "execution_count": 8,
   "id": "f3f75975-6ba8-458b-bb57-d5b67a91c625",
   "metadata": {},
   "outputs": [
    {
     "data": {
      "text/plain": [
       "\u001b[36mres7\u001b[39m: \u001b[32mClass\u001b[39m[\u001b[32mT\u001b[39m] = class java.lang.String"
      ]
     },
     "execution_count": 8,
     "metadata": {},
     "output_type": "execute_result"
    }
   ],
   "source": [
    "s.getClass()"
   ]
  },
  {
   "cell_type": "code",
   "execution_count": 9,
   "id": "b2cc1a65-918e-4532-9647-f96dee9daa27",
   "metadata": {},
   "outputs": [
    {
     "data": {
      "text/plain": [
       "\u001b[36mnums\u001b[39m: \u001b[32mList\u001b[39m[\u001b[32mInt\u001b[39m] = \u001b[33mList\u001b[39m(\u001b[32m1\u001b[39m, \u001b[32m2\u001b[39m, \u001b[32m3\u001b[39m)\n",
       "\u001b[36mres8_1\u001b[39m: \u001b[32mList\u001b[39m[\u001b[32mInt\u001b[39m] = \u001b[33mList\u001b[39m(\u001b[32m1\u001b[39m, \u001b[32m2\u001b[39m, \u001b[32m3\u001b[39m)"
      ]
     },
     "execution_count": 9,
     "metadata": {},
     "output_type": "execute_result"
    }
   ],
   "source": [
    "val nums: List[Int] = List(1, 2, 3)\n",
    "nums"
   ]
  },
  {
   "cell_type": "code",
   "execution_count": 10,
   "id": "88b5ea2c-33f6-4ab4-9331-89490a47e667",
   "metadata": {},
   "outputs": [
    {
     "data": {
      "text/plain": [
       "\u001b[36mres9\u001b[39m: \u001b[32mClass\u001b[39m[\u001b[32mT\u001b[39m] = class scala.collection.immutable.$colon$colon"
      ]
     },
     "execution_count": 10,
     "metadata": {},
     "output_type": "execute_result"
    }
   ],
   "source": [
    "nums.getClass()"
   ]
  },
  {
   "cell_type": "code",
   "execution_count": 11,
   "id": "ba3fe89a-9209-4322-8507-f2f1618c9f90",
   "metadata": {},
   "outputs": [
    {
     "data": {
      "text/plain": [
       "\u001b[36mres10\u001b[39m: \u001b[32mClass\u001b[39m[\u001b[32mInt\u001b[39m] = int"
      ]
     },
     "execution_count": 11,
     "metadata": {},
     "output_type": "execute_result"
    }
   ],
   "source": [
    "nums(0).getClass()"
   ]
  },
  {
   "cell_type": "markdown",
   "id": "5ef875be-0169-490c-873a-fe0d95868a41",
   "metadata": {},
   "source": [
    "## Built-in data types"
   ]
  },
  {
   "cell_type": "markdown",
   "id": "8438e295-8a81-4716-b448-c728ea76b4d9",
   "metadata": {},
   "source": [
    "### Numeric types"
   ]
  },
  {
   "cell_type": "code",
   "execution_count": 12,
   "id": "b1b806fe-843c-4384-a349-353b1222004d",
   "metadata": {},
   "outputs": [
    {
     "data": {
      "text/plain": [
       "\u001b[36mb\u001b[39m: \u001b[32mByte\u001b[39m = \u001b[32m1\u001b[39m\n",
       "\u001b[36mi\u001b[39m: \u001b[32mInt\u001b[39m = \u001b[32m1\u001b[39m\n",
       "\u001b[36ml\u001b[39m: \u001b[32mLong\u001b[39m = \u001b[32m1L\u001b[39m\n",
       "\u001b[36ms\u001b[39m: \u001b[32mShort\u001b[39m = \u001b[32m1\u001b[39m\n",
       "\u001b[36md\u001b[39m: \u001b[32mDouble\u001b[39m = \u001b[32m2.0\u001b[39m\n",
       "\u001b[36mf\u001b[39m: \u001b[32mFloat\u001b[39m = \u001b[32m3.0F\u001b[39m"
      ]
     },
     "execution_count": 12,
     "metadata": {},
     "output_type": "execute_result"
    }
   ],
   "source": [
    "val b: Byte = 1\n",
    "val i: Int = 1\n",
    "val l: Long = 1\n",
    "val s: Short = 1\n",
    "val d: Double = 2.0\n",
    "val f: Float = 3.0f"
   ]
  },
  {
   "cell_type": "markdown",
   "id": "8ac886de-1ce9-41f1-b705-d12d31e06592",
   "metadata": {},
   "source": [
    "`Int` and `Double` are the default data numeric types:"
   ]
  },
  {
   "cell_type": "code",
   "execution_count": 13,
   "id": "67950dd7-9fb8-47f5-98d6-28473c639fae",
   "metadata": {},
   "outputs": [
    {
     "data": {
      "text/plain": [
       "\u001b[36mi\u001b[39m: \u001b[32mInt\u001b[39m = \u001b[32m123\u001b[39m\n",
       "\u001b[36mj\u001b[39m: \u001b[32mDouble\u001b[39m = \u001b[32m1.0\u001b[39m"
      ]
     },
     "execution_count": 13,
     "metadata": {},
     "output_type": "execute_result"
    }
   ],
   "source": [
    "val i = 123\n",
    "val j = 1.0"
   ]
  },
  {
   "cell_type": "markdown",
   "id": "c8de4f54-053e-4bd4-94f0-c5222a55d675",
   "metadata": {},
   "source": [
    "You can append `L`, `D`, and `F` to specify the type:"
   ]
  },
  {
   "cell_type": "code",
   "execution_count": 14,
   "id": "a9a4f571-086a-4384-bfe5-4dd4fba8441a",
   "metadata": {},
   "outputs": [
    {
     "data": {
      "text/plain": [
       "\u001b[36mx\u001b[39m: \u001b[32mLong\u001b[39m = \u001b[32m1000L\u001b[39m\n",
       "\u001b[36my\u001b[39m: \u001b[32mDouble\u001b[39m = \u001b[32m2.2\u001b[39m\n",
       "\u001b[36mz\u001b[39m: \u001b[32mFloat\u001b[39m = \u001b[32m3.3F\u001b[39m"
      ]
     },
     "execution_count": 14,
     "metadata": {},
     "output_type": "execute_result"
    }
   ],
   "source": [
    "val x = 1_000L\n",
    "val y = 2.2D\n",
    "val z = 3.3F"
   ]
  },
  {
   "cell_type": "markdown",
   "id": "2d0f2343-882c-4518-8fbd-7d1714f92390",
   "metadata": {},
   "source": [
    "When you need really big numbers: "
   ]
  },
  {
   "cell_type": "code",
   "execution_count": 15,
   "id": "70155923-a30c-444a-a58c-4901cf9639b8",
   "metadata": {},
   "outputs": [
    {
     "data": {
      "text/html": [
       "<div class=\"jp-RenderedText\">\n",
       "<pre><code><span style=\"color: rgb(0, 187, 187)\"><span class=\"ansi-cyan-fg\">a</span></span>: <span style=\"color: rgb(0, 187, 0)\"><span class=\"ansi-green-fg\">BigInt</span></span> = 1234567890987654321\n",
       "<span style=\"color: rgb(0, 187, 187)\"><span class=\"ansi-cyan-fg\">b</span></span>: <span style=\"color: rgb(0, 187, 0)\"><span class=\"ansi-green-fg\">BigDecimal</span></span> = 123456.789</code></pre>\n",
       "</div>"
      ],
      "text/plain": [
       "\u001b[36ma\u001b[39m: \u001b[32mBigInt\u001b[39m = 1234567890987654321\n",
       "\u001b[36mb\u001b[39m: \u001b[32mBigDecimal\u001b[39m = 123456.789"
      ]
     },
     "metadata": {},
     "output_type": "display_data"
    }
   ],
   "source": [
    "var a = BigInt(1_234_567_890_987_654_321L) // notice the L on the end\n",
    "var b = BigDecimal(123_456.789)"
   ]
  },
  {
   "cell_type": "markdown",
   "id": "8f5295b1-aebd-440d-953a-dcbe08ba8375",
   "metadata": {},
   "source": [
    "### `String` and `Char` types:"
   ]
  },
  {
   "cell_type": "code",
   "execution_count": 16,
   "id": "c55264ac-806d-456b-bdc6-6db895cb92ce",
   "metadata": {},
   "outputs": [
    {
     "data": {
      "text/plain": [
       "\u001b[36mname\u001b[39m: \u001b[32mString\u001b[39m = \u001b[32m\"Bill\"\u001b[39m\n",
       "\u001b[36mc\u001b[39m: \u001b[32mChar\u001b[39m = \u001b[32m'a'\u001b[39m"
      ]
     },
     "execution_count": 16,
     "metadata": {},
     "output_type": "execute_result"
    }
   ],
   "source": [
    "val name = \"Bill\"\n",
    "val c = 'a'"
   ]
  },
  {
   "cell_type": "code",
   "execution_count": 17,
   "id": "5692f34c-70a0-4c3a-a98e-72bf11154373",
   "metadata": {},
   "outputs": [
    {
     "data": {
      "text/plain": [
       "\u001b[36mres16\u001b[39m: \u001b[32mClass\u001b[39m[\u001b[32mT\u001b[39m] = class java.lang.String"
      ]
     },
     "execution_count": 17,
     "metadata": {},
     "output_type": "execute_result"
    }
   ],
   "source": [
    "name.getClass()"
   ]
  },
  {
   "cell_type": "code",
   "execution_count": 18,
   "id": "37487d14-19b1-47b8-8a4d-a37e468a747c",
   "metadata": {},
   "outputs": [
    {
     "data": {
      "text/plain": [
       "\u001b[36mres17\u001b[39m: \u001b[32mClass\u001b[39m[\u001b[32mChar\u001b[39m] = char"
      ]
     },
     "execution_count": 18,
     "metadata": {},
     "output_type": "execute_result"
    }
   ],
   "source": [
    "c.getClass()"
   ]
  },
  {
   "cell_type": "markdown",
   "id": "db520349-fe89-4741-a05c-0bdd08a4757f",
   "metadata": {},
   "source": [
    "### Strings\n",
    "\n",
    "Similar to Java strings, but they have two additional features:\n",
    "\n",
    "1. String interpolation\n",
    "2. Multiline strings"
   ]
  },
  {
   "cell_type": "markdown",
   "id": "dcd61d2e-ce15-42e6-82be-facd739a4f26",
   "metadata": {},
   "source": [
    "#### String interpolation"
   ]
  },
  {
   "cell_type": "code",
   "execution_count": 19,
   "id": "f10261cc-9f53-4203-b41c-dc815a362787",
   "metadata": {},
   "outputs": [
    {
     "data": {
      "text/plain": [
       "\u001b[36mfirstName\u001b[39m: \u001b[32mString\u001b[39m = \u001b[32m\"John\"\u001b[39m\n",
       "\u001b[36mmi\u001b[39m: \u001b[32mChar\u001b[39m = \u001b[32m'C'\u001b[39m\n",
       "\u001b[36mlastName\u001b[39m: \u001b[32mString\u001b[39m = \u001b[32m\"Doe\"\u001b[39m"
      ]
     },
     "execution_count": 19,
     "metadata": {},
     "output_type": "execute_result"
    }
   ],
   "source": [
    "val firstName = \"John\"\n",
    "val mi = 'C'\n",
    "val lastName = \"Doe\""
   ]
  },
  {
   "cell_type": "markdown",
   "id": "5688d012-72bf-4b7f-9148-5b6a333157a1",
   "metadata": {},
   "source": [
    "Jus precede the string with the letter `s`, andm then put a `$` symbol before your variable names inside the string."
   ]
  },
  {
   "cell_type": "code",
   "execution_count": 20,
   "id": "ef81457a-f416-4158-9495-65e6274b43a7",
   "metadata": {},
   "outputs": [
    {
     "name": "stdout",
     "output_type": "stream",
     "text": [
      "Name: John C Doe\n"
     ]
    }
   ],
   "source": [
    "println(s\"Name: $firstName $mi $lastName\")"
   ]
  },
  {
   "cell_type": "code",
   "execution_count": 21,
   "id": "421f09a4-b5f6-42c3-b377-08174db30157",
   "metadata": {},
   "outputs": [
    {
     "name": "stdout",
     "output_type": "stream",
     "text": [
      "2 + 2 = 4\n"
     ]
    }
   ],
   "source": [
    "println(s\"2 + 2 = ${2 + 2}\")"
   ]
  },
  {
   "cell_type": "code",
   "execution_count": 22,
   "id": "e2aadf8d-3281-4c5c-b9ca-e160440721ea",
   "metadata": {},
   "outputs": [
    {
     "data": {
      "text/plain": [
       "\u001b[36mx\u001b[39m: \u001b[32mInt\u001b[39m = \u001b[32m-1\u001b[39m"
      ]
     },
     "execution_count": 22,
     "metadata": {},
     "output_type": "execute_result"
    }
   ],
   "source": [
    "val x = -1"
   ]
  },
  {
   "cell_type": "code",
   "execution_count": 23,
   "id": "479e2c3d-7aaa-4f83-acb7-1a80efabb66e",
   "metadata": {},
   "outputs": [
    {
     "data": {
      "text/plain": [
       "\u001b[36mres22\u001b[39m: \u001b[32mInt\u001b[39m = \u001b[32m1\u001b[39m"
      ]
     },
     "execution_count": 23,
     "metadata": {},
     "output_type": "execute_result"
    }
   ],
   "source": [
    "x.abs"
   ]
  },
  {
   "cell_type": "code",
   "execution_count": 24,
   "id": "060306fb-57fe-48a1-9b69-1e1112242088",
   "metadata": {},
   "outputs": [
    {
     "name": "stdout",
     "output_type": "stream",
     "text": [
      "x.abs = 1"
     ]
    }
   ],
   "source": [
    "print(s\"x.abs = ${x.abs}\")"
   ]
  },
  {
   "cell_type": "markdown",
   "id": "f53c1810-1cbd-435b-a462-5b684703eaf3",
   "metadata": {},
   "source": [
    "- the `s` before the string is just one possible interpolator\n",
    "- you can use `f` instead for `printf` style formatting\n",
    "- it is also possible to define your own\n",
    "    - some database libraries define the very powerful `sql` interpolator"
   ]
  },
  {
   "cell_type": "markdown",
   "id": "4f619eff-be3e-445b-a807-2939b6faa4fc",
   "metadata": {},
   "source": [
    "#### Multiline strings"
   ]
  },
  {
   "cell_type": "code",
   "execution_count": 25,
   "id": "b6dd14b5-a8d2-41d2-883f-f8d5009ae827",
   "metadata": {},
   "outputs": [
    {
     "data": {
      "text/plain": [
       "\u001b[36mquote\u001b[39m: \u001b[32mString\u001b[39m = \u001b[32m\"\"\"The essence of Scala:\n",
       "Fusion of functional and object-oriented\n",
       "programming in a typed setting.\"\"\"\u001b[39m"
      ]
     },
     "execution_count": 25,
     "metadata": {},
     "output_type": "execute_result"
    }
   ],
   "source": [
    "val quote = \"\"\"The essence of Scala:\n",
    "Fusion of functional and object-oriented\n",
    "programming in a typed setting.\"\"\""
   ]
  },
  {
   "cell_type": "code",
   "execution_count": 26,
   "id": "740b3175-c99a-4907-93ba-f7549a078d84",
   "metadata": {},
   "outputs": [
    {
     "name": "stdout",
     "output_type": "stream",
     "text": [
      "The essence of Scala:\n",
      "Fusion of functional and object-oriented\n",
      "programming in a typed setting.\n"
     ]
    }
   ],
   "source": [
    "println(quote)"
   ]
  }
 ],
 "metadata": {
  "kernelspec": {
   "display_name": "Scala",
   "language": "scala",
   "name": "scala"
  },
  "language_info": {
   "codemirror_mode": "text/x-scala",
   "file_extension": ".sc",
   "mimetype": "text/x-scala",
   "name": "scala",
   "nbconvert_exporter": "script",
   "version": "2.13.10"
  }
 },
 "nbformat": 4,
 "nbformat_minor": 5
}
