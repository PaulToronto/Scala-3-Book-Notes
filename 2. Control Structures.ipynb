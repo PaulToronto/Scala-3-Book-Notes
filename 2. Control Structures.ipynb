{
 "cells": [
  {
   "cell_type": "markdown",
   "id": "92df4d52-c86d-43ef-8270-fd02ad8bfac6",
   "metadata": {},
   "source": [
    "# 2. Control Structures\n",
    "\n",
    "1. `if / else`\n",
    "2. `for` loops and expressions\n",
    "3. `match` expressions\n",
    "4. `while` loops\n",
    "5. `try / catch`"
   ]
  },
  {
   "cell_type": "markdown",
   "id": "d511514e-1b42-492e-bc27-5ff04f559ff9",
   "metadata": {},
   "source": [
    "## `if / else`"
   ]
  },
  {
   "cell_type": "markdown",
   "id": "c405a520-7706-4be4-aada-2a03bc961856",
   "metadata": {},
   "source": [
    "Note that the brackets `()` and braces `{}` are not needed in Scala 3"
   ]
  },
  {
   "cell_type": "code",
   "execution_count": 1,
   "id": "8f3e875b-1c0e-4144-9ef8-cd99556f288f",
   "metadata": {},
   "outputs": [
    {
     "data": {
      "text/plain": [
       "\u001b[36mx\u001b[39m: \u001b[32mInt\u001b[39m = \u001b[32m-3\u001b[39m"
      ]
     },
     "execution_count": 1,
     "metadata": {},
     "output_type": "execute_result"
    }
   ],
   "source": [
    "val x = -3"
   ]
  },
  {
   "cell_type": "code",
   "execution_count": 2,
   "id": "cfe20140-5cac-4560-8f12-8c3725f4ce92",
   "metadata": {},
   "outputs": [
    {
     "name": "stdout",
     "output_type": "stream",
     "text": [
      "negative\n"
     ]
    }
   ],
   "source": [
    "if (x < 0) {\n",
    "  println(\"negative\")\n",
    "} \n",
    "else if (x == 0) {\n",
    "  println(\"zero\")\n",
    "} \n",
    "else {\n",
    "  println(\"positive\")\n",
    "}"
   ]
  },
  {
   "cell_type": "markdown",
   "id": "eb49e198-530a-407d-a450-be5a9d8a4d03",
   "metadata": {},
   "source": [
    "Note that this is really an expression, not a statement - that is because it returns a value that can be assigned to a variable. All scala control structures can be used as expressions."
   ]
  },
  {
   "cell_type": "code",
   "execution_count": 3,
   "id": "34ea7b8a-7403-453e-891c-f1d8e75ebd4c",
   "metadata": {},
   "outputs": [
    {
     "data": {
      "text/plain": [
       "\u001b[36ma\u001b[39m: \u001b[32mInt\u001b[39m = \u001b[32m40\u001b[39m\n",
       "\u001b[36mb\u001b[39m: \u001b[32mInt\u001b[39m = \u001b[32m10\u001b[39m\n",
       "\u001b[36mx\u001b[39m: \u001b[32mInt\u001b[39m = \u001b[32m10\u001b[39m"
      ]
     },
     "execution_count": 3,
     "metadata": {},
     "output_type": "execute_result"
    }
   ],
   "source": [
    "val a = 40\n",
    "val b = 10\n",
    "\n",
    "val x = if (a < b) { a } else { b }"
   ]
  },
  {
   "cell_type": "markdown",
   "id": "f4b1b49a-5b03-4b31-9a0b-e54ab939934b",
   "metadata": {},
   "source": [
    "## `for` loops"
   ]
  },
  {
   "cell_type": "code",
   "execution_count": 4,
   "id": "496d08fc-80e0-4719-b3f1-ace3bbc4eb85",
   "metadata": {},
   "outputs": [
    {
     "name": "stdout",
     "output_type": "stream",
     "text": [
      "1\n",
      "2\n",
      "3\n",
      "4\n",
      "5\n"
     ]
    },
    {
     "data": {
      "text/plain": [
       "\u001b[36mints\u001b[39m: \u001b[32mList\u001b[39m[\u001b[32mInt\u001b[39m] = \u001b[33mList\u001b[39m(\u001b[32m1\u001b[39m, \u001b[32m2\u001b[39m, \u001b[32m3\u001b[39m, \u001b[32m4\u001b[39m, \u001b[32m5\u001b[39m)"
      ]
     },
     "execution_count": 4,
     "metadata": {},
     "output_type": "execute_result"
    }
   ],
   "source": [
    "val ints = List(1, 2, 3, 4, 5)\n",
    "\n",
    "for (i <- ints) println(i)"
   ]
  },
  {
   "cell_type": "raw",
   "id": "11ac2baf-e1c1-4552-86c7-56eaf1f2977c",
   "metadata": {},
   "source": [
    "// Scala 3\n",
    "for i <- ints do println(i)"
   ]
  },
  {
   "cell_type": "markdown",
   "id": "bd64ba9a-a07e-4ef0-9f12-c9acd18894e6",
   "metadata": {},
   "source": [
    "Note that `i <- ints` is referred to as a **generator**"
   ]
  },
  {
   "cell_type": "markdown",
   "id": "8ce2b3ee-96c7-4854-8816-55b5030e1eb7",
   "metadata": {},
   "source": [
    "### Guards\n",
    "\n",
    "You can use one for more `if` expressions inside a `for` loop. These are referred to as **gaurds**."
   ]
  },
  {
   "cell_type": "code",
   "execution_count": 5,
   "id": "3eba6749-51bf-497b-9451-643b38981079",
   "metadata": {},
   "outputs": [
    {
     "name": "stdout",
     "output_type": "stream",
     "text": [
      "3\n",
      "4\n",
      "5\n"
     ]
    }
   ],
   "source": [
    "for (i <- ints if i > 2) println(i)"
   ]
  },
  {
   "cell_type": "raw",
   "id": "a56e3a69-b5c4-4609-96fd-606a08ce8ae2",
   "metadata": {},
   "source": [
    "// Scala 3\n",
    "for\n",
    "  i <- ints\n",
    "  if i > 2\n",
    "do\n",
    "  println(i)"
   ]
  },
  {
   "cell_type": "code",
   "execution_count": 6,
   "id": "2fbc0566-3617-4ff5-9959-4fba3d723b40",
   "metadata": {},
   "outputs": [
    {
     "name": "stdout",
     "output_type": "stream",
     "text": [
      "i = 2, j = b\n"
     ]
    }
   ],
   "source": [
    "for {\n",
    "    i <- 1 to 3\n",
    "    j <- 'a' to 'c'\n",
    "    if i == 2\n",
    "    if j == 'b'\n",
    "} {\n",
    "    println(s\"i = $i, j = $j\")\n",
    "}"
   ]
  },
  {
   "cell_type": "raw",
   "id": "90fc0076-f746-4515-80fa-5853c4be1cc2",
   "metadata": {},
   "source": [
    "// Scala 3\n",
    "for\n",
    "  i <- 1 to 3\n",
    "  j <- 'a' to 'c'\n",
    "  if i == 2\n",
    "  if j == 'b'\n",
    "do\n",
    "  println(s\"i = $i, j = $j\")"
   ]
  },
  {
   "cell_type": "markdown",
   "id": "e40a39d8-7dc5-494c-a49d-02046423f483",
   "metadata": {},
   "source": [
    "## `for` expressions\n",
    "\n",
    "When used with `yield` instead of `do`, you create `for` expressions which are used to calculate and yield results"
   ]
  },
  {
   "cell_type": "code",
   "execution_count": 7,
   "id": "f703790d-663e-47aa-9a0d-2b1378ac76cc",
   "metadata": {},
   "outputs": [
    {
     "data": {
      "text/plain": [
       "\u001b[36mdoubles\u001b[39m: \u001b[32mList\u001b[39m[\u001b[32mInt\u001b[39m] = \u001b[33mList\u001b[39m(\u001b[32m2\u001b[39m, \u001b[32m4\u001b[39m, \u001b[32m6\u001b[39m, \u001b[32m8\u001b[39m, \u001b[32m10\u001b[39m)"
      ]
     },
     "execution_count": 7,
     "metadata": {},
     "output_type": "execute_result"
    }
   ],
   "source": [
    "val doubles = for (i <- ints) yield i * 2"
   ]
  },
  {
   "cell_type": "raw",
   "id": "52029881-52d9-440f-b9a6-cc1f15b92661",
   "metadata": {},
   "source": [
    "// Scala 3\n",
    "val doubles = for i <- ints yield i * 2"
   ]
  },
  {
   "cell_type": "markdown",
   "id": "dea9c37f-636d-458b-b603-ac4492fa7f1b",
   "metadata": {},
   "source": [
    "Scala's control structure syntax is flexible. The `for` expression can be written in several ways:"
   ]
  },
  {
   "cell_type": "code",
   "execution_count": 8,
   "id": "3f0357b5-4b75-4025-b88a-c510f8502e40",
   "metadata": {},
   "outputs": [
    {
     "data": {
      "text/plain": [
       "\u001b[36mdoubles1\u001b[39m: \u001b[32mList\u001b[39m[\u001b[32mInt\u001b[39m] = \u001b[33mList\u001b[39m(\u001b[32m2\u001b[39m, \u001b[32m4\u001b[39m, \u001b[32m6\u001b[39m, \u001b[32m8\u001b[39m, \u001b[32m10\u001b[39m)\n",
       "\u001b[36mdoubles2\u001b[39m: \u001b[32mList\u001b[39m[\u001b[32mInt\u001b[39m] = \u001b[33mList\u001b[39m(\u001b[32m2\u001b[39m, \u001b[32m4\u001b[39m, \u001b[32m6\u001b[39m, \u001b[32m8\u001b[39m, \u001b[32m10\u001b[39m)\n",
       "\u001b[36mdoubles3\u001b[39m: \u001b[32mList\u001b[39m[\u001b[32mInt\u001b[39m] = \u001b[33mList\u001b[39m(\u001b[32m2\u001b[39m, \u001b[32m4\u001b[39m, \u001b[32m6\u001b[39m, \u001b[32m8\u001b[39m, \u001b[32m10\u001b[39m)"
      ]
     },
     "execution_count": 8,
     "metadata": {},
     "output_type": "execute_result"
    }
   ],
   "source": [
    "val doubles1 = for(i <- ints) yield i * 2\n",
    "val doubles2 = for(i <- ints) yield (i * 2)\n",
    "val doubles3 = for { i <- ints } yield (i * 2)"
   ]
  },
  {
   "cell_type": "raw",
   "id": "6773c57a-0752-442d-8a9c-cc6b50102dee",
   "metadata": {},
   "source": [
    "// Scala 3\n",
    "val doubles1 = for i <- ints yield i * 2    \n",
    "val doubles2 = for (i <- ints) yield i * 2\n",
    "val doubles3 = for (i <- ints) yield (i * 2)\n",
    "val doubles4 = for { i <- ints } yield (i * 2)"
   ]
  },
  {
   "cell_type": "code",
   "execution_count": 9,
   "id": "eaf80863-7fe3-4770-967d-d4d117c02f12",
   "metadata": {},
   "outputs": [
    {
     "data": {
      "text/plain": [
       "\u001b[36mnames\u001b[39m: \u001b[32mList\u001b[39m[\u001b[32mString\u001b[39m] = \u001b[33mList\u001b[39m(\u001b[32m\"chris\"\u001b[39m, \u001b[32m\"ed\"\u001b[39m, \u001b[32m\"maurice\"\u001b[39m)"
      ]
     },
     "execution_count": 9,
     "metadata": {},
     "output_type": "execute_result"
    }
   ],
   "source": [
    "val names = List(\"chris\", \"ed\", \"maurice\")"
   ]
  },
  {
   "cell_type": "code",
   "execution_count": 10,
   "id": "de58069a-d184-4994-9838-0aa5a0cb73c9",
   "metadata": {},
   "outputs": [
    {
     "data": {
      "text/plain": [
       "\u001b[36mcapNames\u001b[39m: \u001b[32mList\u001b[39m[\u001b[32mString\u001b[39m] = \u001b[33mList\u001b[39m(\u001b[32m\"Chris\"\u001b[39m, \u001b[32m\"Ed\"\u001b[39m, \u001b[32m\"Maurice\"\u001b[39m)"
      ]
     },
     "execution_count": 10,
     "metadata": {},
     "output_type": "execute_result"
    }
   ],
   "source": [
    "val capNames = for (name <- names) yield name.capitalize"
   ]
  },
  {
   "cell_type": "raw",
   "id": "dc46eb16-c7f0-46e6-92e8-6f0901052cc5",
   "metadata": {},
   "source": [
    "// Scala 3\n",
    "val capNames = for name <- names yield name.capitalize"
   ]
  },
  {
   "cell_type": "code",
   "execution_count": 11,
   "id": "26dde185-d4b1-4321-b101-e621269a1e93",
   "metadata": {},
   "outputs": [
    {
     "data": {
      "text/plain": [
       "\u001b[36mfruits\u001b[39m: \u001b[32mList\u001b[39m[\u001b[32mString\u001b[39m] = \u001b[33mList\u001b[39m(\u001b[32m\"apple\"\u001b[39m, \u001b[32m\"banana\"\u001b[39m, \u001b[32m\"lime\"\u001b[39m, \u001b[32m\"orange\"\u001b[39m)"
      ]
     },
     "execution_count": 11,
     "metadata": {},
     "output_type": "execute_result"
    }
   ],
   "source": [
    "val fruits = List(\"apple\", \"banana\", \"lime\", \"orange\")"
   ]
  },
  {
   "cell_type": "code",
   "execution_count": 12,
   "id": "83f03655-1db9-44b1-a088-4ba948e30775",
   "metadata": {},
   "outputs": [
    {
     "data": {
      "text/plain": [
       "\u001b[36mfruitLengths\u001b[39m: \u001b[32mList\u001b[39m[\u001b[32mInt\u001b[39m] = \u001b[33mList\u001b[39m(\u001b[32m5\u001b[39m, \u001b[32m6\u001b[39m, \u001b[32m6\u001b[39m)"
      ]
     },
     "execution_count": 12,
     "metadata": {},
     "output_type": "execute_result"
    }
   ],
   "source": [
    "val fruitLengths = for (f <- fruits if f.length > 4) yield f.length"
   ]
  },
  {
   "cell_type": "raw",
   "id": "438cee39-53f7-472f-a69c-30d0495bf9e3",
   "metadata": {},
   "source": [
    "// Scala 3\n",
    "val fruitLengths = for\n",
    "  f <- fruits\n",
    "  if f.length > 4\n",
    "yield\n",
    "  // you can use multiple lines\n",
    "  // of code here\n",
    "  f.length\n",
    "\n",
    "// fruitLengths: List[Int] = List(5, 6, 6)"
   ]
  },
  {
   "cell_type": "markdown",
   "id": "6ce93484-0c9e-45f8-ae2e-1a4a3b8a9fc1",
   "metadata": {},
   "source": [
    "## `match` expressions"
   ]
  },
  {
   "cell_type": "code",
   "execution_count": null,
   "id": "1db38637-a0f2-4668-b25b-adbe314d611d",
   "metadata": {},
   "outputs": [],
   "source": []
  }
 ],
 "metadata": {
  "kernelspec": {
   "display_name": "Scala",
   "language": "scala",
   "name": "scala"
  },
  "language_info": {
   "codemirror_mode": "text/x-scala",
   "file_extension": ".sc",
   "mimetype": "text/x-scala",
   "name": "scala",
   "nbconvert_exporter": "script",
   "version": "2.13.10"
  }
 },
 "nbformat": 4,
 "nbformat_minor": 5
}
